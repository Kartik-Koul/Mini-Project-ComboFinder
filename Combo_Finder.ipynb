{
  "nbformat": 4,
  "nbformat_minor": 0,
  "metadata": {
    "colab": {
      "provenance": [],
      "authorship_tag": "ABX9TyODjKxJBebi+wIN5DaeY6jd",
      "include_colab_link": true
    },
    "kernelspec": {
      "name": "python3",
      "display_name": "Python 3"
    },
    "language_info": {
      "name": "python"
    }
  },
  "cells": [
    {
      "cell_type": "markdown",
      "metadata": {
        "id": "view-in-github",
        "colab_type": "text"
      },
      "source": [
        "<a href=\"https://colab.research.google.com/github/Kartik-Koul/Mini-Project-ComboFinder/blob/main/Combo_Finder.ipynb\" target=\"_parent\"><img src=\"https://colab.research.google.com/assets/colab-badge.svg\" alt=\"Open In Colab\"/></a>"
      ]
    },
    {
      "cell_type": "code",
      "execution_count": 15,
      "metadata": {
        "id": "d1UA6MAoOkOI"
      },
      "outputs": [],
      "source": [
        "# Importing the random module\n",
        "import random as r"
      ]
    },
    {
      "cell_type": "code",
      "source": [
        "# Defining a product list\n",
        "ProductList = {'p1':10, 'p2':15, 'p3':20, 'p4':25, 'p5':30, 'p6':35, 'p7':50,\n",
        "               'p8':40, 'p9':55, 'p10':60, 'p11':65, 'p12':75, 'p13':70,\n",
        "               'p14':45}\n",
        "\n",
        "print(ProductList)\n",
        "\n",
        "# Taking user input on the upper and lower bounds of the required sum\n",
        "lower_bound = int(input(\"Enter the lower bound of the required sum : \"))\n",
        "upper_bound = int(input(\"Enter the upper bound of the required sum : \"))\n",
        "\n",
        "# Defining the number of iterations\n",
        "iteration_count = 500\n",
        "\n",
        "# Defining a list to contain all the required results]\n",
        "solution_set = []"
      ],
      "metadata": {
        "colab": {
          "base_uri": "https://localhost:8080/"
        },
        "id": "v9YO3qkhPBHC",
        "outputId": "53bb2eb3-2be1-414d-dbe3-49c64ebc3036"
      },
      "execution_count": 27,
      "outputs": [
        {
          "name": "stdout",
          "output_type": "stream",
          "text": [
            "{'p1': 10, 'p2': 15, 'p3': 20, 'p4': 25, 'p5': 30, 'p6': 35, 'p7': 50, 'p8': 40, 'p9': 55, 'p10': 60, 'p11': 65, 'p12': 75, 'p13': 70, 'p14': 45}\n",
            "Enter the lower bound of the required sum : 100\n",
            "Enter the upper bound of the required sum : 120\n"
          ]
        }
      ]
    },
    {
      "cell_type": "code",
      "source": [
        "for i in range(iteration_count):\n",
        "\n",
        "  # Taking a random combo size\n",
        "  set_size = r.randint(2, len(ProductList) - 1)\n",
        "\n",
        "  # Taking a random combo sample\n",
        "  demo_combo = r.sample(list(ProductList.keys()), set_size)\n",
        "\n",
        "  # Sorting the combo sample\n",
        "  demo_combo.sort()\n",
        "\n",
        "  # Taking sum of all values in the combo\n",
        "  combo_sum = sum([ProductList[j] for j in demo_combo])\n",
        "\n",
        "  # Checking the combo for the conditions\n",
        "  if combo_sum >= lower_bound and combo_sum <= upper_bound:\n",
        "    solution_set.append(demo_combo)\n",
        "\n",
        "# Printing all solutions\n",
        "for i in solution_set:\n",
        "  print(i)\n",
        "\n",
        "# Printing the total number of solutions\n",
        "print(f\"The total number of solutions obtained in {iteration_count} iterations is {len(solution_set)}.\")"
      ],
      "metadata": {
        "colab": {
          "base_uri": "https://localhost:8080/"
        },
        "id": "x-cXYnmpQG1v",
        "outputId": "3b75587d-8006-417e-a2e0-540ad37190c1"
      },
      "execution_count": 28,
      "outputs": [
        {
          "output_type": "stream",
          "name": "stdout",
          "text": [
            "['p10', 'p14']\n",
            "['p11', 'p8']\n",
            "['p1', 'p2', 'p4', 'p5', 'p6']\n",
            "['p10', 'p14', 'p2']\n",
            "['p1', 'p14', 'p7']\n",
            "['p4', 'p6', 'p9']\n",
            "['p12', 'p8']\n",
            "['p11', 'p2', 'p8']\n",
            "['p3', 'p8', 'p9']\n",
            "['p2', 'p3', 'p5', 'p7']\n",
            "['p11', 'p9']\n",
            "['p10', 'p8']\n",
            "['p1', 'p14', 'p3', 'p5']\n",
            "['p1', 'p12', 'p2']\n",
            "['p14', 'p9']\n",
            "['p11', 'p2', 'p8']\n",
            "['p13', 'p7']\n",
            "['p10', 'p14']\n",
            "['p2', 'p8', 'p9']\n",
            "['p1', 'p7', 'p8']\n",
            "['p10', 'p8']\n",
            "The total number of solutions obtained in 500 iterations is 21.\n"
          ]
        }
      ]
    }
  ]
}